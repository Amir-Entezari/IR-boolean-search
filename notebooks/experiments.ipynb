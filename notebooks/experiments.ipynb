{
 "cells": [
  {
   "cell_type": "code",
   "execution_count": 1,
   "metadata": {
    "collapsed": true,
    "ExecuteTime": {
     "start_time": "2024-06-16T01:23:04.688464Z",
     "end_time": "2024-06-16T01:23:15.762756Z"
    }
   },
   "outputs": [
    {
     "name": "stderr",
     "output_type": "stream",
     "text": [
      "[nltk_data] Error loading punkt: <urlopen error [SSL:\n",
      "[nltk_data]     UNEXPECTED_EOF_WHILE_READING] EOF occurred in\n",
      "[nltk_data]     violation of protocol (_ssl.c:1006)>\n",
      "[nltk_data] Error loading stopwords: <urlopen error [SSL:\n",
      "[nltk_data]     UNEXPECTED_EOF_WHILE_READING] EOF occurred in\n",
      "[nltk_data]     violation of protocol (_ssl.c:1006)>\n"
     ]
    }
   ],
   "source": [
    "from src.preprocessing import preprocess_documents\n",
    "from src.indexing import InvertedIndex\n",
    "from src.querying import QueryProcessor\n",
    "\n"
   ]
  },
  {
   "cell_type": "code",
   "execution_count": 2,
   "outputs": [],
   "source": [
    "# Sample documents:\n",
    "documents = [\n",
    "    'This is a simple example document. It contains several words. The words should be processed and indexed.',\n",
    "    'Another example document with different content. Document indexing is important for retrieval.',\n",
    "    'Another example document to test Boolean search capabilities. This document contains relevant content.']\n",
    "\n",
    "# Preprocess documents\n",
    "preprocessed_documents = preprocess_documents(documents)\n",
    "\n",
    "# Initialize the Information Retrieval System with the preprocessed documents\n",
    "inverted_index = InvertedIndex(preprocessed_documents)\n"
   ],
   "metadata": {
    "collapsed": false,
    "ExecuteTime": {
     "start_time": "2024-06-16T01:23:15.763690Z",
     "end_time": "2024-06-16T01:23:15.773370Z"
    }
   }
  },
  {
   "cell_type": "code",
   "execution_count": 3,
   "outputs": [
    {
     "data": {
      "text/plain": "[another,\n boolean,\n capabilities,\n contains,\n content,\n different,\n document,\n example,\n important,\n indexed,\n indexing,\n processed,\n relevant,\n retrieval,\n search,\n several,\n simple,\n test,\n words]"
     },
     "execution_count": 3,
     "metadata": {},
     "output_type": "execute_result"
    }
   ],
   "source": [
    "# Create posting lists\n",
    "inverted_index.create_posting_list()\n",
    "\n",
    "# Let's see the posting list\n",
    "inverted_index.posting_list\n"
   ],
   "metadata": {
    "collapsed": false,
    "ExecuteTime": {
     "start_time": "2024-06-16T01:23:15.776690Z",
     "end_time": "2024-06-16T01:23:15.781574Z"
    }
   }
  },
  {
   "cell_type": "code",
   "execution_count": 4,
   "outputs": [
    {
     "name": "stdout",
     "output_type": "stream",
     "text": [
      "[1, 2]\n",
      "[]\n",
      "[0, 1, 2]\n",
      "[]\n"
     ]
    }
   ],
   "source": [
    "ir_system = QueryProcessor(inverted_index)\n",
    "\n",
    "# Execute a standard Boolean query\n",
    "print(ir_system.search('example and content'))\n",
    "\n",
    "# Execute a proximity query\n",
    "print(ir_system.search('not example'))\n",
    "\n",
    "# Execute an OR query\n",
    "print(ir_system.search('example or content'))\n",
    "\n",
    "# Execute a NOT query\n",
    "print(ir_system.search('not example'))\n"
   ],
   "metadata": {
    "collapsed": false,
    "ExecuteTime": {
     "start_time": "2024-06-16T01:23:15.780570Z",
     "end_time": "2024-06-16T01:23:15.824001Z"
    }
   }
  },
  {
   "cell_type": "code",
   "execution_count": 4,
   "outputs": [],
   "source": [],
   "metadata": {
    "collapsed": false,
    "ExecuteTime": {
     "start_time": "2024-06-16T01:23:15.823788Z",
     "end_time": "2024-06-16T01:23:15.824260Z"
    }
   }
  }
 ],
 "metadata": {
  "kernelspec": {
   "display_name": "Python 3",
   "language": "python",
   "name": "python3"
  },
  "language_info": {
   "codemirror_mode": {
    "name": "ipython",
    "version": 2
   },
   "file_extension": ".py",
   "mimetype": "text/x-python",
   "name": "python",
   "nbconvert_exporter": "python",
   "pygments_lexer": "ipython2",
   "version": "2.7.6"
  }
 },
 "nbformat": 4,
 "nbformat_minor": 0
}
