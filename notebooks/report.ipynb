{
 "cells": [
  {
   "cell_type": "markdown",
   "metadata": {
    "collapsed": false,
    "jupyter": {
     "outputs_hidden": false
    }
   },
   "source": [
    "# Hw1: Developing an Information Retrieval System with Advanced Boolean Search"
   ]
  },
  {
   "cell_type": "markdown",
   "metadata": {
    "collapsed": false,
    "jupyter": {
     "outputs_hidden": false
    }
   },
   "source": [
    "## About\n",
    "This project aims to develop an Information Retrieval (IR) system that supports both standard Boolean queries and\n",
    "proximity queries. The system is designed to handle a collection of text documents, building an Inverted Index and a\n",
    "Positional Index to facilitate efficient document retrieval."
   ]
  },
  {
   "cell_type": "markdown",
   "metadata": {
    "collapsed": false,
    "jupyter": {
     "outputs_hidden": false
    }
   },
   "source": [
    "## importing libraries\n",
    "Let's first import libraries we might need. we will use some libraries as typing checking, and some libraries like string just for punctuation.\n",
    "and also, as it is said in Problem file, we can use nltk library for tokenizing. I implement two way for tokenizing, one using nltk and one without."
   ]
  },
  {
   "cell_type": "code",
   "execution_count": 1,
   "metadata": {
    "ExecuteTime": {
     "start_time": "2024-06-19T01:42:12.332033Z",
     "end_time": "2024-06-19T01:42:12.806220Z"
    },
    "collapsed": true,
    "jupyter": {
     "outputs_hidden": true
    }
   },
   "outputs": [],
   "source": [
    "import os\n",
    "import string\n",
    "import re\n",
    "from typing import List\n",
    "\n",
    "import nltk\n"
   ]
  },
  {
   "cell_type": "markdown",
   "metadata": {
    "collapsed": false,
    "jupyter": {
     "outputs_hidden": false
    }
   },
   "source": [
    "## Main classes\n",
    "Now let's define our classes. I define two classes for this project. Token and Information Retrieval System. I use Token class inside of IR System.\n",
    "### Algorithm\n",
    "Befor going to implementation, let's summarize our algorithm and approach:\n",
    "First of all, we get a list of documents in format of string; we need to tokenize all these documents. we can split all words using whitespace. Then, we need to get rid of punctuation. This will be done using nltk. at last, it's better to lower case all words so we can index for example \"another\" and \"Another\" in same. After tokenizing, we have to create our posting_list, which is the core of this project. To do this, we should loop over all documents, then inside this loop, we loop over all the tokens that are in the current document. then we check if the length of posting_list is zero, then we add this token as first word. else if the length of posting_list is more than 0, we find the correct index of the token in posting_list alphabetically. then we check if this token, has been already in posting_list, we just add the current document index in tokens.docs, else, we add this token in the posting_list, then add the current document index. Also we store index of occurence of the token in the relevant documents.\n",
    "Now we create our posting list, we can easily query. for intersecting(AND) 2 words, we just need to return document's index of our 2 words that are occurred in same documents. for union(OR), we gather index of word1 with word2. for NOT, we just need to return all document's index that are not in the list of documents that contain our word. And at last, for near, we just need to find documents that either each of these word has been occurred near by at most k words on left or right. we have to cases:\n",
    " * 1)the first_word occurred before second_word.\n",
    " * 2)second_word occurred before first_word.\n",
    "\n",
    "so we loop over a tuple (p1, p2) to cover ordered occurrence of each word. then for each word we loop over its documents, and in each document, we loop over index of that the token is occurred. then if other word(let's say second) is in documents[word1_idx:word1_idx+length], we add the current document index."
   ]
  },
  {
   "cell_type": "markdown",
   "metadata": {
    "collapsed": false,
    "jupyter": {
     "outputs_hidden": false
    }
   },
   "source": [
    "### Token class:"
   ]
  },
  {
   "cell_type": "code",
   "execution_count": 2,
   "metadata": {
    "ExecuteTime": {
     "start_time": "2024-06-19T01:42:12.849142Z",
     "end_time": "2024-06-19T01:42:12.849393Z"
    },
    "collapsed": false,
    "jupyter": {
     "outputs_hidden": false
    }
   },
   "outputs": [],
   "source": [
    "class Token:\n",
    "    \"\"\"\n",
    "    In this class, I implement a token object, which store the valuse of a token(str), the list of documents that it is\n",
    "    occurred in, and its index in them.\n",
    "    ...\n",
    "    Attributes:\n",
    "    ----------\n",
    "    word: str\n",
    "        value of a token\n",
    "    docs: list[dict]\n",
    "        list of documents that it is occurred in, and its index in them. each document is represented as a dict with two\n",
    "        key: 1) doc_idx: index of the documents\n",
    "            2)indexes: list of index of the occurrence of the token in this document\n",
    "    \"\"\"\n",
    "\n",
    "    def __init__(self, word: str):\n",
    "        self.word: str = word\n",
    "        self.docs: list[dict] = []\n",
    "\n",
    "    def __str__(self):\n",
    "        return self.word\n",
    "\n",
    "    def __repr__(self):\n",
    "        return self.word\n"
   ]
  },
  {
   "cell_type": "markdown",
   "source": [
    "## Preprocessing\n",
    "Let's define our preprocess functions"
   ],
   "metadata": {
    "collapsed": false
   }
  },
  {
   "cell_type": "code",
   "execution_count": 3,
   "outputs": [],
   "source": [
    "stop_words = set(nltk.corpus.stopwords.words('english'))\n",
    "\n",
    "\n",
    "def read_documents(doc_folder):\n",
    "    \"\"\"\n",
    "    Reads all text files in the specified directory and returns a dictionary\n",
    "    with document ids as keys and the content as values.\n",
    "    \"\"\"\n",
    "    documents = {}\n",
    "    for doc_file in os.listdir(doc_folder):\n",
    "        if doc_file.endswith('.txt'):\n",
    "            doc_path = os.path.join(doc_folder, doc_file)\n",
    "            with open(doc_path, 'r', encoding='utf-8') as file:\n",
    "                documents[doc_file] = file.read()\n",
    "    return documents\n",
    "\n",
    "\n",
    "def preprocess_text(text):\n",
    "    \"\"\"\n",
    "    Preprocesses the text by tokenizing, converting to lowercase, removing punctuation,\n",
    "    and filtering out stop words.\n",
    "    \"\"\"\n",
    "    # Convert to lowercase\n",
    "    text = text.lower()\n",
    "    # Remove punctuation\n",
    "    text = re.sub(r'[^\\w\\s]', '', text)\n",
    "    # Tokenize text\n",
    "    tokens = nltk.tokenize.word_tokenize(text)\n",
    "    # Filter out stop words\n",
    "    filtered_tokens = [token for token in tokens if token not in stop_words]\n",
    "    return filtered_tokens\n",
    "\n",
    "\n",
    "def preprocess_documents(documents):\n",
    "    \"\"\"\n",
    "    Apply text preprocessing to each document in the dictionary.\n",
    "    \"\"\"\n",
    "    preprocessed_docs = []\n",
    "    for doc_id, content in enumerate(documents):\n",
    "        preprocessed_docs.append(preprocess_text(content))\n",
    "    return preprocessed_docs\n"
   ],
   "metadata": {
    "collapsed": false,
    "ExecuteTime": {
     "start_time": "2024-06-19T01:42:12.849252Z",
     "end_time": "2024-06-19T01:42:12.849545Z"
    }
   }
  },
  {
   "cell_type": "markdown",
   "source": [
    "## Indexing\n",
    "Now let's define our main class:"
   ],
   "metadata": {
    "collapsed": false
   }
  },
  {
   "cell_type": "code",
   "execution_count": 4,
   "metadata": {
    "ExecuteTime": {
     "start_time": "2024-06-19T01:42:12.849333Z",
     "end_time": "2024-06-19T01:42:12.849640Z"
    },
    "collapsed": false,
    "jupyter": {
     "outputs_hidden": false
    }
   },
   "outputs": [],
   "source": [
    "class Token:\n",
    "    def __init__(self, word: str):\n",
    "        self.word = word\n",
    "        self.docs = []\n",
    "\n",
    "    def __str__(self):\n",
    "        return self.word\n",
    "\n",
    "    def __repr__(self):\n",
    "        return self.word\n",
    "\n",
    "\n",
    "class InvertedIndex:\n",
    "    \"\"\"\n",
    "    In this class, I implement an information retrieval system which can search a query among documents.\n",
    "    ...\n",
    "    Attributes:\n",
    "    -----------\n",
    "    documents: List\n",
    "        list of documents in format of string.\n",
    "    posting_list: List[Token]\n",
    "        list of Token objects. Tokens store a string and document's indexes\n",
    "    stop_word: set\n",
    "        set of stop words to check when tokenizing\n",
    "    case_sensitive: bool\n",
    "        a boolean to determine whether we want to distinguish between lowercase and uppercase form.\n",
    "\n",
    "    Methods\n",
    "    -------\n",
    "    Methods defined here:\n",
    "        __init__(self, documents: List, case_sensitive=False):\n",
    "            Constructor will set initial attributes like documents and case_sensitive. NOTE that documents should be\n",
    "            list of strings at first.\n",
    "            :parameter\n",
    "            ---------\n",
    "            documents:List\n",
    "                list of strings at first. but then chagnes to list of lists of strings\n",
    "            :return\n",
    "                None\n",
    "        add_document(self, doc_idx, doc):\n",
    "            this function will add a document to the posting list. it will loop over all tokens in the document and\n",
    "            add them to the posting list.\n",
    "            :param doc_idx:\n",
    "                index of the document in the documents list\n",
    "            :param doc:\n",
    "                list of tokens in the document\n",
    "            :return:\n",
    "                None\n",
    "        create_posting_list(self):\n",
    "            calling this function, will create posting list of all occurred words cross all documents.\n",
    "            :parameter\n",
    "                None\n",
    "            :return\n",
    "                None\n",
    "        get_token_index(self, x):\n",
    "            this function find index of a word in posting list using binary search algorithm.\n",
    "            :parameter\n",
    "                x:str\n",
    "                    the word you want to find its index\n",
    "            :return\n",
    "                int: index of the word in posting_list\n",
    "        get_token(self, token):\n",
    "                This function will return the token object that contains docs informations. if the given token is not in the\n",
    "                posting_list, it return the spell corrected token.\n",
    "                :param token:\n",
    "                    token you want to fetch it from posting list\n",
    "                :return:\n",
    "                    return the instance of token from posting list\n",
    "    \"\"\"\n",
    "\n",
    "    def __init__(self, documents: List, case_sensitive=False):\n",
    "        \"\"\"\n",
    "        Constructor will set initial attributes like documents and case_sensitive. NOTE that documents should be\n",
    "            list of strings at first.\n",
    "            :parameter\n",
    "            ---------\n",
    "            documents:List\n",
    "                list of strings at first. but then chagnes to list of lists of strings\n",
    "            :return\n",
    "                None\n",
    "        \"\"\"\n",
    "        self.documents = documents\n",
    "        self.posting_list: List[Token] = []\n",
    "        self.stop_words: set = set(nltk.corpus.stopwords.words('english') + list(string.punctuation))\n",
    "        self.case_sensitive = case_sensitive\n",
    "\n",
    "\n",
    "    def add_document(self, doc_idx, doc):\n",
    "        for token_idx, token in enumerate(doc):\n",
    "            if len(self.posting_list) == 0:\n",
    "                self.posting_list.append(Token(token))\n",
    "                self.posting_list[0].docs.append({'doc_idx': doc_idx, 'indexes': [token_idx]})\n",
    "                continue\n",
    "            i = 0\n",
    "            while i < len(self.posting_list) and token > self.posting_list[i].word:\n",
    "                i += 1\n",
    "            if i == len(self.posting_list):\n",
    "                self.posting_list.append(Token(token))\n",
    "                # self.posting_list[i].post_idx.append(post_idx)\n",
    "            elif token != self.posting_list[i].word:\n",
    "                self.posting_list.insert(i, Token(token))\n",
    "\n",
    "            if doc_idx not in [elem['doc_idx'] for elem in self.posting_list[i].docs]:\n",
    "                self.posting_list[i].docs.append({'doc_idx': doc_idx, 'indexes': [token_idx]})\n",
    "            else:\n",
    "                self.posting_list[i].docs[-1]['indexes'].append(token_idx)\n",
    "\n",
    "    def create_posting_list(self):\n",
    "        \"\"\"\n",
    "        calling this function, will create posting list of all occurred words cross all documents. in this function, we\n",
    "        loop over all documents, then inside this loop, we loop over all the tokens that are in the current document.\n",
    "        the we check if the length of posting_list is zero, then we add this token as first word. else if the length of\n",
    "        posting_list is more than 0, we find the correct index of the token in posting_list alphabetically. then we check\n",
    "        if this token, has been already in posting_list, we just add the current document index in tokens.docs, else, we\n",
    "        add this token in the posting_list, then add the current document index.\n",
    "            :parameter\n",
    "                None\n",
    "            :return\n",
    "                None\n",
    "        :return:\n",
    "        \"\"\"\n",
    "        for doc_idx, doc in enumerate(self.documents):\n",
    "            self.add_document(doc_idx=doc_idx, doc=doc)\n",
    "\n",
    "    def get_token_index(self, x):\n",
    "        \"\"\"\n",
    "        this function find index of a word in posting list using binary search algorithm.\n",
    "            :parameter\n",
    "                x:str\n",
    "                    the word you want to find its index\n",
    "            :return\n",
    "                int: index of the word in posting_list\n",
    "        \"\"\"\n",
    "        low = 0\n",
    "        high = len(self.posting_list) - 1\n",
    "        mid = 0\n",
    "        while low <= high:\n",
    "            mid = (high + low) // 2\n",
    "            if self.posting_list[mid].word < x:\n",
    "                low = mid + 1\n",
    "            elif self.posting_list[mid].word > x:\n",
    "                high = mid - 1\n",
    "            else:\n",
    "                return mid\n",
    "        return -1\n",
    "\n",
    "    def get_token(self, token):\n",
    "        \"\"\"\n",
    "        This function will return the token object that contains docs informations. if the given token is not in the\n",
    "        posting_list, it return the spell corrected token.\n",
    "        :param token:\n",
    "            token you want to fetch it from posting list\n",
    "        :return:\n",
    "            return the instance of token from posting list\n",
    "        \"\"\"\n",
    "        p = self.get_token_index(token)\n",
    "        if p == -1:\n",
    "            null_token = Token('token')\n",
    "            null_token.docs = []\n",
    "            return null_token\n",
    "        return self.posting_list[p]\n",
    "\n",
    "\n"
   ]
  },
  {
   "cell_type": "markdown",
   "source": [
    "## querying\n",
    "At last we complete our IR system by implementing a QueryProcessor class. This class will use the InvertedIndex class we defined before."
   ],
   "metadata": {
    "collapsed": false
   }
  },
  {
   "cell_type": "code",
   "execution_count": 5,
   "outputs": [],
   "source": [
    "class QueryProcessor:\n",
    "    \"\"\"\n",
    "    In this class, I implement an information retrieval system which can search a query among documents.\n",
    "    ...\n",
    "    Attributes:\n",
    "    -----------\n",
    "    indexing_model: InvertedIndex\n",
    "        an instance of InvertedIndex class which has been created by indexing documents.\n",
    "    Methods\n",
    "    -------\n",
    "    Methods defined here:\n",
    "        get_word_docs(self, word: str):\n",
    "                this simple function gets a token and will return all index of documents that this token is appeared in.\n",
    "                :param word:\n",
    "                    a word that you want to search.\n",
    "                :return:\n",
    "                    list of indexes of documents.\n",
    "        intersect(self, first_word, second_word):\n",
    "                this function get two words, and find documents that both of these word has been occurred.\n",
    "                :parameter\n",
    "                first_word: str\n",
    "                    first word you want to search\n",
    "                second_word: str\n",
    "                    second word you want to search\n",
    "                :return\n",
    "                    list of indexes of documents.\n",
    "            union(self, first_word, second_word):\n",
    "                this function get two words, and find documents that either each of these word has been occurred.\n",
    "                :parameter\n",
    "                first_word: str\n",
    "                    first word you want to search\n",
    "                second_word: str\n",
    "                    second word you want to search\n",
    "                :return\n",
    "                    list of indexes of documents.\n",
    "            not_in(self, word):\n",
    "                this function get one word, and find documents that this word has been not occurred.\n",
    "                :parameter\n",
    "                word: str\n",
    "                    the word you want to search\n",
    "                :return\n",
    "                    list of indexes of documents.\n",
    "            near(self, first_word, second_word, length):\n",
    "                this function get two words, and find documents that either each of these word has been occurred near by at most 3 words on left or right.\n",
    "                :parameter\n",
    "                first_word: str\n",
    "                    first word you want to search\n",
    "                second_word: str\n",
    "                    second word you want to search\n",
    "                :return\n",
    "                    list of indexes of documents.\n",
    "            search(self, query):\n",
    "                this function get a query and recognize what kind of query is; then search the query.\n",
    "                :parameter\n",
    "                    query: str\n",
    "                        the query that user wants to search\n",
    "                :return\n",
    "                    print list of indexes of documents in a pretty way.\n",
    "    \"\"\"\n",
    "    def __init__(self, indexing_model):\n",
    "        self.indexing_model = indexing_model\n",
    "\n",
    "    def get_word_docs(self, word):\n",
    "        t = self.indexing_model.get_token(word)\n",
    "        result = set()\n",
    "        for doc in t.docs:\n",
    "            result.add(doc['doc_idx'])\n",
    "        return result\n",
    "\n",
    "    def intersect(self, first_word, second_word):\n",
    "        docs1 = self.get_word_docs(first_word)\n",
    "        docs2 = self.get_word_docs(second_word)\n",
    "        return list(docs1 & docs2)\n",
    "\n",
    "    def union(self, first_word, second_word):\n",
    "        docs1 = self.get_word_docs(first_word)\n",
    "        docs2 = self.get_word_docs(second_word)\n",
    "        return list(docs1 | docs2)\n",
    "\n",
    "    def not_in(self, word):\n",
    "        all_docs = set(range(len(self.indexing_model.documents)))\n",
    "        word_docs = self.get_word_docs(word)\n",
    "        return list(all_docs - word_docs)\n",
    "\n",
    "    def near(self, first_word, second_word, distance):\n",
    "        result = set()\n",
    "        t1 = self.indexing_model.get_token(first_word)\n",
    "        t2 = self.indexing_model.get_token(second_word)\n",
    "        for t in (t1, t2):\n",
    "            for doc in t.docs:\n",
    "                for idx in doc['indexes']:\n",
    "                    if second_word in self.indexing_model.documents[doc[\"doc_idx\"]][idx + 1:idx + 1 + distance]:\n",
    "                        result.add(doc['doc_idx'])\n",
    "        return list(result)\n",
    "\n",
    "    def search(self, query):\n",
    "        query_parts = query.lower().split()\n",
    "        if 'and' in query_parts:\n",
    "            return self.intersect(query_parts[0], query_parts[2])\n",
    "        elif 'or' in query_parts:\n",
    "            return self.union(query_parts[0], query_parts[2])\n",
    "        elif 'not' in query_parts:\n",
    "            return self.not_in(query_parts[1])\n",
    "        elif 'near' in query:\n",
    "            distance = int(query_parts[1].split('/')[1])\n",
    "            return self.near(query_parts[0], query_parts[2], distance)\n",
    "        else:\n",
    "            return list(self.get_word_docs(query_parts[0]))\n"
   ],
   "metadata": {
    "collapsed": false,
    "ExecuteTime": {
     "start_time": "2024-06-19T01:42:12.849534Z",
     "end_time": "2024-06-19T01:42:12.849712Z"
    }
   }
  },
  {
   "cell_type": "markdown",
   "metadata": {
    "collapsed": false,
    "jupyter": {
     "outputs_hidden": false
    }
   },
   "source": [
    "# Test\n",
    "Now let's test our system using samples"
   ]
  },
  {
   "cell_type": "markdown",
   "metadata": {
    "collapsed": false,
    "jupyter": {
     "outputs_hidden": false
    }
   },
   "source": [
    "### read documents\n",
    "First let's define a documetns_test list."
   ]
  },
  {
   "cell_type": "code",
   "execution_count": 6,
   "metadata": {
    "ExecuteTime": {
     "start_time": "2024-06-19T01:42:12.849605Z",
     "end_time": "2024-06-19T01:42:12.849775Z"
    },
    "collapsed": false,
    "jupyter": {
     "outputs_hidden": false
    }
   },
   "outputs": [],
   "source": [
    "# Sample documents:\n",
    "documents_test = [\n",
    "    'This is a simple example document. It contains several words. The words should be processed and indexed.',\n",
    "    'Another example document with different content. Document indexing is important for retrieval.',\n",
    "    'Another example document to test Boolean search capabilities. This document contains relevant content.']"
   ]
  },
  {
   "cell_type": "markdown",
   "metadata": {
    "collapsed": false,
    "jupyter": {
     "outputs_hidden": false
    }
   },
   "source": [
    "### Build our system\n",
    "Now let's build our system and call initial functions:"
   ]
  },
  {
   "cell_type": "code",
   "execution_count": 7,
   "outputs": [],
   "source": [
    "# Preprocess documents\n",
    "preprocessed_documents = preprocess_documents(documents_test)\n",
    "\n",
    "# Initialize the Information Retrieval System with the preprocessed documents\n",
    "inverted_index = InvertedIndex(preprocessed_documents)"
   ],
   "metadata": {
    "collapsed": false,
    "ExecuteTime": {
     "start_time": "2024-06-19T01:42:12.849677Z",
     "end_time": "2024-06-19T01:42:12.849837Z"
    }
   }
  },
  {
   "cell_type": "code",
   "execution_count": 8,
   "outputs": [
    {
     "name": "stdout",
     "output_type": "stream",
     "text": [
      "**** ir_system documents:\n",
      " [['simple', 'example', 'document', '.', 'contains', 'several', 'words', '.', 'words', 'processed', 'indexed', '.'], ['another', 'example', 'document', 'different', 'content', '.', 'document', 'indexing', 'important', 'retrieval', '.'], ['another', 'example', 'document', 'test', 'boolean', 'search', 'capabilities', '.', 'document', 'contains', 'relevant', 'content', '.']]\n"
     ]
    }
   ],
   "source": [
    "print('**** ir_system documents:\\n', inverted_index.documents)"
   ],
   "metadata": {
    "collapsed": false,
    "ExecuteTime": {
     "start_time": "2024-06-19T01:42:12.849731Z",
     "end_time": "2024-06-19T01:42:12.852779Z"
    }
   }
  },
  {
   "cell_type": "code",
   "execution_count": 9,
   "outputs": [
    {
     "data": {
      "text/plain": "[.,\n another,\n boolean,\n capabilities,\n contains,\n content,\n different,\n document,\n example,\n important,\n indexed,\n indexing,\n processed,\n relevant,\n retrieval,\n search,\n several,\n simple,\n test,\n words]"
     },
     "execution_count": 9,
     "metadata": {},
     "output_type": "execute_result"
    }
   ],
   "source": [
    "# Create posting lists\n",
    "inverted_index.create_posting_list()\n",
    "\n",
    "# Let's see the posting list\n",
    "inverted_index.posting_list"
   ],
   "metadata": {
    "collapsed": false,
    "ExecuteTime": {
     "start_time": "2024-06-19T01:42:12.852213Z",
     "end_time": "2024-06-19T01:42:12.857394Z"
    }
   }
  },
  {
   "cell_type": "code",
   "execution_count": 10,
   "outputs": [
    {
     "name": "stdout",
     "output_type": "stream",
     "text": [
      "**** ir_system posting list:\n",
      " [., another, boolean, capabilities, contains, content, different, document, example, important, indexed, indexing, processed, relevant, retrieval, search, several, simple, test, words]\n"
     ]
    }
   ],
   "source": [
    "print('**** ir_system posting list:\\n', inverted_index.posting_list)"
   ],
   "metadata": {
    "collapsed": false,
    "ExecuteTime": {
     "start_time": "2024-06-19T01:42:12.859396Z",
     "end_time": "2024-06-19T01:42:12.861103Z"
    }
   }
  },
  {
   "cell_type": "markdown",
   "metadata": {
    "collapsed": false,
    "jupyter": {
     "outputs_hidden": false
    }
   },
   "source": [
    "### Testing\n",
    "Now we can test and query to our system. Note that the documents are 0-based indexing:"
   ]
  },
  {
   "cell_type": "code",
   "execution_count": 11,
   "metadata": {
    "ExecuteTime": {
     "start_time": "2024-06-19T01:42:12.863007Z",
     "end_time": "2024-06-19T01:42:12.936380Z"
    },
    "collapsed": false,
    "jupyter": {
     "outputs_hidden": false
    }
   },
   "outputs": [
    {
     "name": "stdout",
     "output_type": "stream",
     "text": [
      "[1, 2]\n",
      "[0, 1, 2]\n",
      "[]\n",
      "[1]\n"
     ]
    }
   ],
   "source": [
    "ir_system = QueryProcessor(inverted_index)\n",
    "# Now we test our sample\n",
    "print(ir_system.search('example and content'))\n",
    "print(ir_system.search('example or content'))\n",
    "print(ir_system.search('not example'))\n",
    "print(ir_system.search('example near/3 content'))\n"
   ]
  },
  {
   "cell_type": "markdown",
   "metadata": {
    "collapsed": false,
    "jupyter": {
     "outputs_hidden": false
    }
   },
   "source": [
    "### Let's test it on our dataset file too. NOTE that the documents should be provided in the same directory:"
   ]
  },
  {
   "cell_type": "code",
   "execution_count": 12,
   "metadata": {
    "ExecuteTime": {
     "start_time": "2024-06-19T01:42:12.896697Z",
     "end_time": "2024-06-19T01:42:12.936686Z"
    },
    "collapsed": false,
    "jupyter": {
     "outputs_hidden": false
    }
   },
   "outputs": [
    {
     "name": "stdout",
     "output_type": "stream",
     "text": [
      "Happy and Unhappy Renters.txt\n",
      "A Festival of Books.txt\n",
      "A Murder-Suicide.txt\n",
      "Jerry Decided To Buy a Gun.txt\n",
      "Better To Be Unlucky.txt\n",
      "Pulling Out Nine Tons of Trash.txt\n",
      "Food Fight Erupted in Prison.txt\n",
      "Crazy Housing Prices.txt\n",
      "Trees Are a Threat.txt\n",
      "Man Injured at Fast Food Place.txt\n",
      "Freeway Chase Ends at Newsstand.txt\n",
      "Cloning Pets.txt\n",
      "Sara Went Shopping.txt\n",
      "Gasoline Prices Hit Record High.txt\n",
      "Rentals at the Oceanside Community.txt\n"
     ]
    }
   ],
   "source": [
    "dataset_path = '../dataset/raw'\n",
    "documents_test = []\n",
    "for filename in os.listdir(dataset_path):\n",
    "    filepath = os.path.join(dataset_path, filename)\n",
    "    if filepath.endswith('.txt'):\n",
    "        print(filename)\n",
    "        # Use encoding cp1252 for test cases if an error raised\n",
    "        documents_test.append(open(filepath, encoding='cp1252').read())"
   ]
  },
  {
   "cell_type": "markdown",
   "metadata": {
    "collapsed": false,
    "jupyter": {
     "outputs_hidden": false
    }
   },
   "source": [
    "### Build our system\n",
    "Now let's build our system and call initial functions:"
   ]
  },
  {
   "cell_type": "code",
   "execution_count": 13,
   "metadata": {
    "ExecuteTime": {
     "start_time": "2024-06-19T01:42:12.896745Z",
     "end_time": "2024-06-19T01:42:12.936766Z"
    },
    "collapsed": false,
    "jupyter": {
     "outputs_hidden": false
    }
   },
   "outputs": [],
   "source": [
    "# Preprocess documents\n",
    "preprocessed_documents = preprocess_documents(documents_test)\n",
    "\n",
    "# Initialize the Information Retrieval System with the preprocessed documents\n",
    "inverted_index = InvertedIndex(preprocessed_documents)"
   ]
  },
  {
   "cell_type": "code",
   "execution_count": 14,
   "metadata": {
    "ExecuteTime": {
     "start_time": "2024-06-19T01:42:12.896774Z",
     "end_time": "2024-06-19T01:42:12.937039Z"
    },
    "collapsed": false,
    "jupyter": {
     "outputs_hidden": false
    }
   },
   "outputs": [
    {
     "name": "stdout",
     "output_type": "stream",
     "text": [
      "**** ir_system documents:\n",
      " [['samantha', ',', 'like', 'many', 'renters', ',', 'tired', 'renting', '.', 'one', 'reason', 'annual', 'rent', 'goes', 'like', 'clockwork', '.', 'every', 'year', 'landlord', 'raises', 'rent', 'five', 'percent', '.', 'another', 'reason', 'neighbors', '.', '“', 'new', 'neighbors', 'always', 'seem', 'inconsiderate', 'ones', 'moved', ',', '”', 'said', '.', '“', 'first', 'neighbor', 'door-slammer', ';', 'always', 'knew', 'came', 'home', 'left', 'home', '.', 'moved', ',', 'saxophonist', 'moved', '.', 'saxophonist', '!', 'practiced', 'two', 'hours', 'day', '.', 'saturday', 'friends', 'would', 'come', '’', 'get', 'listen', 'whole', 'band', '.', 'called', 'police', ',', 'said', 'saxophone', 'playing', 'permitted', 'apartments', 'four', 'hours', 'day', ',', 'saxophone', 'playing', 'job-related', '.', 'told', 'lucky', 'guy', 'playing', 'two', 'hours', 'day', '!', '”', 'many', 'unhappy', 'renters', ',', 'also', 'happy', 'renters', '.', '“', '’', 'lucky', 'whole', 'life', ',', '”', 'said', 'howard', ',', 'middle-aged', 'man', '.', '“', 'neighbors', '’', 'better', 'picked', '.', 'one', 'neighbor', 'chef', '.', '’', 'bring', 'best', 'leftovers', 'world', '.', 'another', 'neighbor', 'pianist', '.', 'played', 'delightful', 'music', '.', 'another', 'neighbor', 'mechanic', 'tune-ups', 'changed', 'oil', 'car', '.', 'latest', 'neighbor', 'birder', ';', 'go', 'birding', 'every', 'weekend', 'binoculars.', '”', 'different', 'persons', 'different', 'attitudes', '.', 'samantha', 'saw', 'saxophone', 'player', 'irritating', ',', 'yet', 'howard', 'saw', 'piano', 'player', 'delightful', '.', 'millions', 'people', 'would', 'happy', 'roof', 'head', '.', 'yet', 'millions', 'would', 'complain', 'roof', 'wrong', 'color', '.'], ['people', 'joke', 'one', 'los', 'angeles', 'reads', ';', 'everyone', 'watches', 'tv', ',', 'rents', 'videos', ',', 'goes', 'movies', '.', 'popular', 'reading', 'material', 'comic', 'books', ',', 'movie', 'magazines', ',', 'tv', 'guides', '.', 'city', 'libraries', '10', 'percent', 'traffic', 'car', 'washes', '.', 'explain', '?', 'annual', 'book', 'festival', 'west', 'los', 'angeles', '“', 'sold', '”', 'year', 'year', '.', 'people', 'wait', 'half', 'hour', 'parking', 'space', 'become', 'available.this', 'outdoor', 'festival', ',', 'sponsored', 'newspaper', ',', 'occurs', 'every', 'april', 'one', 'weekend', '.', 'year', '’', 'attendance', 'estimated', '70,000', 'saturday', '75,000', 'sunday', '.', 'festival', 'featured', '280', 'exhibitors', '.', '90', 'talks', 'given', 'authors', ',', 'audience', 'question-and-answer', 'period', 'following', 'talk', '.', 'autograph', 'seekers', 'sought', '150', 'authors', '.', 'food', 'court', 'sold', 'kinds', 'popular', 'ethnic', 'foods', ',', 'american', 'hamburgers', 'hawaiian', 'shave', 'ice', 'drinks', '.', 'except', '$', '7', 'parking', 'fee', ',', 'festival', 'free', '.', 'even', ',', 'people', 'avoided', 'food', 'court', 'prices', 'sneaking', 'sandwiches', 'drinks.people', 'came', 'california', '.', 'one', 'couple', 'drove', 'san', 'francisco', '.', '“', 'sixth', 'year', '.', 'love', ',', '”', 'said', 'husband', '.', '“', '’', 'fantastic', 'great', 'outdoors', ',', 'among', 'many', 'books', 'authors', ',', 'get', 'good', 'deals', ',', 'too.', '”', 'idea', 'festival', 'occurred', 'years', 'ago', ',', 'nobody', 'knew', 'would', 'succeed', '.', 'although', 'book', 'festivals', 'already', 'popular', 'us', 'cities', ',', 'would', 'los', 'angeles', 'residents', 'embrace', 'one', '?', '“', 'angelenos', 'unpredictable', ',', '”', 'said', 'one', 'festival', 'founders', '.'], ['man', 'woman', 'died', 'apparent', 'murder-suicide', 'last', 'night', 'altadena', '.', 'man', '74-year-old', 'dominic', 'vittorio', '.', 'woman', '70-year-old', 'wife', ',', 'victoria', '.', 'couple', 'married', '50', 'years', '.', 'fact', ',', '50th', 'anniversary', 'occurred', 'month', 'ago', ',', 'according', 'next-door', 'neighbor', ',', 'mrs.', 'allen', '.', 'couple', 'childless', 'close', 'friends', '.', 'mr.', 'vittorio', 'retired', 'carpenter', 'emphysema', 'blind', 'one', 'eye', 'cataract', '.', 'wife', 'diabetic', 'already', 'one', 'foot', 'amputated', 'complications', 'disease', '.', 'eyesight', 'almost', 'completely', 'gone.', '“', 'nice', 'couple', ',', '”', 'said', 'mrs.', 'allen', '.', '“', '’', 'lived', 'next', 'last', '20', 'years', '.', '’', 'widowed', ',', 'dom', 'always', 'used', 'help', 'things', 'like', 'changing', 'light', 'bulbs', 'fixing', 'appliances', '.', 'kids', ',', 'always', 'friendly', 'neighborhood', 'kids', '.', 'every', 'halloween', 'handed', 'tons', 'candy', 'fresh', 'fruit', '.', 'eight', 'years', 'ago', 'vicky', 'came', 'diabetes', ',', 'things', '’', 'dom', '.', 'used', 'friendly', 'full', 'life', ',', 'seemed', 'get', 'quieter', 'quieter.', '“', 'used', 'come', 'place', 'twice', 'week', ',', 'would', 'talk', 'kinds', 'things', 'nicest', 'time', '.', 'happened', 'less', 'less', 'got', 'sicker', '.', 'would', 'go', 'house', 'week', 'would', 'talk', '.', 'conversations', 'steadily', 'got', 'shorter', ',', 'seemed', 'lose', 'interest', 'listening', 'talking', '.', '’', 'say', ',', 'could', 'tell', 'lot', 'pain.', '”', 'mrs', '.', 'allen', 'said', '’', 'even', 'talked', 'either', 'vittorios', 'almost', 'year', '.', 'never', 'came', '.', 'even', 'food', 'delivered', 'local', 'agency', '.', 'said', 'heard', 'two', 'gunshots', 'last', 'night—', '“', 'scared', 'half', 'death', '!', '”', 'immediately', 'called', 'police', '.', '“', 'sad', 'ending', 'nice', 'people', ',', '”', 'said', '.', '“', 'together', 'sickness', ',', 'alone', 'world', '.', '”'], ['jerry', 'baldwin', '30', 'years', 'old', '.', 'manager', 'pizza', 'restaurant', '.', 'lived', 'apartment', 'one', 'mile', 'north', 'restaurant', '.', 'walked', 'work', '.', 'raining', ',', 'took', 'bus.jerry', 'loved', 'gangster', 'movies', '.', 'new', 'one', 'came', ',', 'would', 'go', 'theater', 'watch', 'new', 'movie', 'three', 'four', 'times', '.', ',', 'went', 'video', ',', 'jerry', 'would', 'buy', 'video', 'barney', '’', 'video', 'store', '.', 'jerry', 'home', 'collection', '1,000', 'gangster', 'videos', '.', 'old', 'ones', ',', 'new', 'ones', ',', 'color', ',', 'black', 'white', ',', 'english', ',', 'spanish', ',', 'japanese–he', 'loved', '.', 'could', 'tell', 'name', 'movie', ',', 'director', ',', 'stars', ',', 'plot', '.', 'say', 'liked', '“', 'pulp', 'fiction', '”', '?', 'well', ',', 'jerry', 'would', 'rattle', 'details', 'movie', '.', 'would', 'invite', 'place', 'watch', 'time', '.', 'nice', 'guy.jerry', 'finally', 'decided', 'would', 'like', 'gun', ',', 'like', 'gangsters', '.', 'saved', 'money', 'couple', 'years', '.', 'went', 'gun', 'store', 'bought', 'used', '.38', 'caliber', 'revolver', '$', '300', '.', ',', 'also', 'bought', 'couple', 'boxes', 'ammunition', '.', 'following', 'saturday', 'morning', ',', 'went', 'gun', 'club', 'practice', 'new', 'revolver', '.', 'club', '10', 'minutes', 'accidentally', 'dropped', 'pistol', '.', 'gun', 'went', ',', 'bullet', 'went', 'jerry', '’', 'right', 'knee.jerry', 'walks', 'limp', 'cane', ',', 'like', 'gangsters', '.'], ['sam', ',', 'unemployed', 'piano', 'tuner', ',', 'said', 'second', 'thing', 'ever', 'life', '.', 'first', 'thing', 'afghan', 'blanket', 'church', 'raffle', '25', 'years', 'old', '.', 'much', 'bigger', ':', '$', '120,000', '!', 'big', 'cube', ',', 'state', 'lottery', 'game', '.', 'win', ',', 'contestant', 'must', 'first', 'guess', 'number', 'spinning', 'cube', 'stop', '.', 'cube', 'six', 'numbers', ':', '1x', ',', '10x', ',', '50x', ',', '100x', ',', '500x', ',', '1000x', '.', 'correct', ',', 'contestant', 'must', 'guess', 'two', 'selected', 'variables', 'going', 'greater', '.', ',', 'guessing', 'number', 'appears', 'cube', 'guarantee', 'win', 'money.sam', 'correctly', 'guessed', '1000x', ',', 'still', 'choose', 'two', 'variables', '.', 'one', 'variable', 'number', 'cars', 'would', 'run', 'stop', 'sign', 'hill', 'street', 'lake', 'avenue', 'six', 'hours', '.', 'variable', 'number', 'times', 'teenage', 'boy', 'would', 'change', 'tv', 'channels', 'three-hour', 'period', '.', 'tough', 'decision.finally', ',', 'sam', 'flipped', 'coin', '.', 'came', 'heads', ',', 'sam', 'picked', 'teenager', '.', 'picked', 'right', '.', 'stop', 'sign', 'run', '76', 'times', ',', 'teen', 'clicked', '120', 'times', '.', 'sixty-year-old', 'sam', 'jumped', 'joy', ',', '1000', 'times', '120', ',', '$', '120,000', '.', 'sam', 'dreamily', 'left', 'lottery', 'studio', '.', 'talking', 'excitedly', 'cell', 'phone', 'crossing', 'street', ',', 'got', 'hit', 'little', 'sports', 'car.sam', 'slowly', 'getting', 'better', '.', 'hospital', 'month', '.', 'hospital', 'bill', '$', '110,000', '.', 'insurance', 'company', 'little', 'sports', 'car', '’', 'owner', 'sued', 'sam', '$', '9,000', 'worth', 'repairs', '.', 'also', ',', 'sam', 'still', 'pay', 'federal', 'taxes', 'winnings', '.', 'sam', '’', 'play', 'state', 'lottery', '.', 'says', '’', 'better', 'unlucky', '.'], ['work', 'crew', 'consisting', '150', 'volunteers', 'worked', 'eight', 'hours', 'light', 'drizzle', 'saturday', 'clean', 'carson', 'creek', 'almost', 'nine', 'tons', 'debris', '.', '“', 'job', 'well', 'done', ',', '”', 'smiled', 'alan', 'specter', ',', 'director', 'event', '.', '“', '’', 'scheduled', 'come', 'back', 'one', 'time', ',', 'three', 'years', '.', 'course', ',', 'hope', '’', 'nine', 'tons', 'garbage', 'next', 'time.', '”', 'garbage', 'came', 'shapes', ',', 'sizes', ',', 'colors', ':', 'cans', ',', 'bottles', ',', 'bicycles', ',', 'car', 'tires', ',', 'auto', 'batteries', ',', 'sofas', ',', 'furniture', ',', 'clothing', ',', 'shopping', 'carts', ',', 'bowling', 'balls', ',', 'plastic', 'bags', ',', 'dolls', ',', 'baby', 'carriages', ',', 'tv', 'antennas', ',', 'portable', 'radios', '.', 'even', 'golf', 'bag', 'full', 'set', 'golf', 'clubs.much', 'backbreaking', 'work', 'done', 'two', 'community', 'groups—the', 'cub', 'scouts', 'boy', 'scouts', ',', 'two', 'environmental', 'groups—save', 'bay', 'watch', 'whales', '.', 'concerned', 'retirees', 'volunteers', 'police', 'fire', 'departments', 'assisted', '.', 'everyone', 'issued', 'boots', ',', 'gloves', ',', 'rain', 'gear', '.', 'work', 'occurred', 'along', 'two-mile', 'stretch', 'streambed', '.', 'debris', 'hauled', 'roadside', ',', 'trucks', 'lined', 'take', 'trash', 'landfill', '.', '500', 'big', 'yellow', 'trash', 'bags', 'filled.no', 'one', 'found', 'anything', 'great', 'value', ',', 'although', 'five-year-old', 'boy', 'found', 'earring', 'thought', 'might', 'worth', 'million', 'dollars', 'shiny', '.', 'said', 'would', 'sell', '.', 'would', 'donate', 'half', 'proceeds', 'watch', 'whales', ',', 'use', 'half', 'buy', 'triple-scoop', 'ice', 'cream', 'cone', 'every', 'day', 'rest', 'life', '.'], ['inmates', 'released', 'two', 'correctional', 'officers', 'held', 'week', 'tower', 'state', 'prison', 'complex', '.', 'inmates', 'captured', 'officers', 'week', 'ago', 'two', 'officers', 'tried', 'quell', 'food', 'fight', 'main', 'dining', 'room', '.', 'food', 'fight', 'erupted', 'prisoners', 'discovered', 'candy', 'ration', 'cut', 'half', '.', 'candy', 'popular', 'bartering', 'item', '.', 'inmates', 'trade', 'cigarettes', ',', 'cigars', ',', 'magazines', ',', 'stationery', ',', 'legal', 'dictionaries', ',', 'items', '.', 'prison', 'officials', 'said', 'necessary', 'cut', 'back', 'luxury', 'item', 'order', 'provide', 'basic', 'items', ',', 'like', 'soap', 'razors', 'toilet', 'paper.the', 'prisoners', 'went', 'berserk', 'reduction', '.', 'threw', 'food', ',', 'plates', ',', 'silverware', 'doors', ',', 'windows', ',', 'guards', '.', 'grabbed', 'two', 'guards', 'hauled', 'tower', '.', 'tower', 'door', 'secured', ',', 'sent', 'messages', 'prison', 'officials', 'demanding', 'big', 'bags', 'candy', 'exchange', 'sparing', 'guards', '’', 'lives', '.', 'warden', 'complied', 'demands', '.', 'week', 'negotiations', ',', 'prisoners', 'approved', 'deal', 'restored', 'candy', 'ration', ',', 'return', 'administration', 'said', 'would', 'reduce', 'daily', 'soap', 'allotments', '75', 'percent', '.'], ['homebuyers', 'nationwide', 'watching', 'housing', 'prices', 'go', ',', ',', '.', '“', 'high', 'go', '?', '”', 'question', 'everyone', '’', 'lips', '.', '“', 'long', 'interest', 'rates', 'stay', 'around', '5', 'percent', ',', '’', 'telling', ',', '”', 'remarked', 'one', 'realtor', 'santa', 'monica', ',', 'california.', '“', '’', 'crazy', ',', '”', 'said', 'tim', ',', 'looking', 'house', 'near', 'beach', '.', '“', '1993', ',', 'bought', 'first', 'place', ',', 'two-bedroom', 'condominium', 'venice', ',', '$', '70,000', '.', 'friends', 'thought', 'overpaying', '.', 'five', 'years', 'later', ',', 'move', '.', 'sold', '$', '230,000', ',', 'nice', 'profit', '.', 'last', 'year', ',', 'visiting', 'friends', ',', 'saw', 'local', 'paper', 'exact', 'condo', 'sale', '$', '510,000', '!', '”', 'seller', '’', 'market', '.', 'homebuyers', 'feel', 'like', 'offer', 'least', '10', 'percent', 'asking', 'price', '.', 'donna', ',', 'new', 'owner', 'one-bedroom', 'condo', 'venice', 'beach', ',', 'said', ',', '“', '’', '.', 'told', 'owner', 'whatever', 'anyone', 'offers', ',', '’', 'give', '$', '20,000', ',', 'table', ',', '’', 'pay', 'realtor', '.', 'tired', 'looking.', '”', 'tim', 'says', 'hopes', '’', 'get', 'desperate', '.', '“', 'whether', 'decide', 'buy', 'decide', 'buy', ',', 'still', 'feel', 'like', 'made', 'wrong', 'decision', '.', 'buy', ',', 'feel', 'like', 'overpaid', '.', '’', 'buy', ',', 'want', 'kick', 'passing', 'great', 'opportunity.', '”', 'everyone', 'says', 'bubble', 'burst', 'sometime', ',', 'everyone', 'hopes', 'burst', 'day', 'sell', 'house', '.', 'even', 'government', 'officials', 'idea', 'future', 'bring', '.', '“', 'say', ',', 'inevitably', ',', 'things', 'go', 'cycles', ',', '”', 'said', 'state', 'director', 'housing', '.', '“', 'goes', 'must', 'come', '.', ',', 'know', ',', 'housing', 'prices', 'always', 'stay', 'little', 'higher', 'go', '.', '’', 'lose', 'long', 'run', '.', 'twenty', 'years', 'road', ',', 'house', 'always', 'worth', 'paid', '.', '”'], ['mountain', 'town', 'canton', 'elevation', '6,000', 'feet', '.', 'surrounded', 'thick', 'underbrush', 'pine', 'trees', '.', 'six', 'years', 'drought', ',', 'plants', 'major', 'fire', 'hazard', '.', 'thousands', 'trees', 'tons', 'underbrush', 'going', 'removed', 'next', 'five', 'years', 'minimum', 'cost', '$', '3', 'million', '.', 'brush', 'removed', 'first', ',', 'trees', 'toppled', 'removed', '.', 'cleared', 'nonflammable', 'area', 'safely', 'surround', 'town', '4,000.residents', 'look', 'forward', 'work', ',', 'help', 'town', 'survive', 'future', 'inferno', '.', '“', 'two', 'problems', ',', '”', 'said', 'one', 'resident', '.', '“', 'extra', 'trucks', 'going', 'make', 'traffic', 'pretty', 'bad', '.', 'area', 'cleared', ',', 'make', 'sure', 'dirt', 'bikers', '’', 'try', 'make', 'cleared', 'area', 'personal', 'playground.', '”', 'recent', 'fire', 'burned', '4,000', 'acres', 'destroyed', '11', 'homes', 'nearby', 'hamilton', '.', 'fire', 'raging', 'toward', 'canton', ',', 'sudden', 'rainstorm', 'put', '.', 'residents', 'know', '’', 'get', 'lucky', 'twice', ',', 'looking', 'forward', 'massive', 'clearing', 'operation.ninety', 'percent', 'cutting', 'clearing', 'paid', 'federal', 'funds', '.', 'unfortunately', ',', 'trees', 'private', 'property', ',', 'must', 'paid', 'residents', '.', 'prices', 'range', 'high', '$', '1,000', 'cut', 'remove', 'one', 'tree', '.', 'officials', 'say', 'residents', 'apply', 'state', 'federal', 'loans', 'necessary.', '“', 'well', ',', 'good', '?', '”', 'asked', 'thelma', ',', '65-year-old', 'widow', '.', '“', '’', 'living', 'social', 'security', '.', '’', 'got', 'four', 'trees', 'property', '.', 'government', '’', 'going', 'loan', 'money', 'know', '’', 'way', 'pay', 'back', '.', 'supposed', '?', 'planners', 'big', 'ideas', 'ought', 'think', 'little', 'people', '.', '”'], ['79-year-old', 'man', 'slightly', 'injured', 'saturday', 'waiting', 'brand', 'new', 'convertible', 'drive-through', 'lane', 'burger', 'prince', 'restaurant', '.', 'herman', 'sherman', 'northville', 'suffered', 'mild', 'burn', '9:00', 'p.m.', 'young', 'female', 'employee', 'accidentally', 'spilled', 'cup', 'coffee', 'lap', '.', 'sherman', 'said', 'coffee', 'hot', 'scalding.he', 'refused', 'medical', 'aid', ',', 'saying', 'problem', 'stain', 'slacks', ',', 'would', 'wash', '.', 'given', 'fresh', 'refill', '.', 'sherman', 'drove', ',', 'restaurant', 'manager', ',', 'john', 'johnson', ',', 'gave', 'two', 'free', 'gift', 'certificates–one', 'extra-large', 'coffee', 'one', 'restaurant', '’', 'newest', 'sandwich', ',', 'mcrap.the', 'employee', ',', 'new', 'hire', ',', 'let', 'go', 'later', 'evening', '.', 'quite', 'upset', '.', 'said', 'would', 'probably', 'sue', 'burger', 'prince', 'letting', 'go', '.', 'said', 'man', '’', 'fault', 'ordering', 'something', 'might', 'able', 'spill', '.'], ['24-year-old', 'los', 'angeles', 'man', 'taken', 'hospital', 'county', 'jail', 'leading', 'police', 'one-hour', 'freeway', 'chase', 'stolen', 'suv', '.', 'chase', 'ended', 'downtown', 'los', 'angeles', 'front', 'spring', 'hotel', '.', 'chase', 'uneventful', ',', 'except', 'empty', 'bottle', 'whiskey', 'driver', 'threw', 'one', 'police', 'vehicle.when', 'driver', 'got', 'downtown', ',', 'things', 'started', 'happen', '.', 'ran', 'fire', 'hydrant', '.', 'water', 'spewed', 'hydrant', ',', 'causing', 'geyser', 'ruined', 'books', 'several', 'carts', 'vendor', 'put', 'outside', 'attract', 'customers', 'bookstore', '.', 'driver', 'hurriedly', 'turned', 'west', 'onto', 'grand', 'avenue', 'managed', 'bang', 'three', 'parked', 'cars', 'one', 'side', 'street', 'two', 'cars', 'side', '.', 'driver', 'also', 'tried', 'run', 'police', 'officer', ',', 'standing', 'crosswalk', 'ordering', 'halt.turning', 'north', ',', 'driver', 'caused', 'bus', 'slam', 'brakes', 'avoid', 'collision', '.', 'bus', 'empty', ',', 'bus', 'driver', 'uninjured', '.', 'however', ',', 'two', 'police', 'cars', 'pursuing', 'suv', 'different', 'directions', 'lucky', '.', 'one', 'ran', 'front', 'bus', ',', 'back', '.', 'drivers', 'braked', 'early', 'enough', ',', 'damage', 'cars', 'minor', '.', 'officers', 'resumed', 'chase.they', 'went', 'two', 'blocks', 'north', 'find', 'suv', 'come', 'full', 'stop', 'plowed', 'newspaper', 'stand', '.', 'driver', ',', 'wearing', 'seatbelt', ',', 'slumped', 'behind', 'steering', 'wheel', '.', 'proprietor', 'newsstand', 'yelling', 'driver', 'shaking', 'magazine', '.', 'police', 'called', 'ambulance', '.', 'charged', 'driver', 'failure', 'yield', 'police', 'officer', 'driving', 'influence', '.'], ['company', 'phoenix', ',', 'arizona', ',', 'says', 'clone', 'cat', '.', '“', 'actually', ',', '”', 'said', 'felix', 'lee', ',', 'president', 'twice', 'nice', ',', 'inc.', ',', '“', '’', 'even', 'wait', 'beloved', 'cat', 'dies', '.', 'already', 'clients', 'whose', 'clone', 'lives', 'donor.', '”', 'price', 'steep', '.', 'clone', 'cat', 'cost', '$', '50,000', '.', 'first', ',', 'veterinarian', 'must', 'biopsy', 'cat', '.', 'sent', 'twin', ',', 'inc.', ',', 'cultured', 'grow', 'fresh', 'new', 'cells', '.', 'new', 'cells', 'stored', 'liquid', 'nitrogen', 'notify', 'twin', ',', 'inc.', ',', 'ready', 'clone', '.', 'time', ',', 'pay', 'half', 'amount', '(', '$', '25,000', ')', '.', 'cultured', 'cell', 'implanted', 'female', 'cat', 'estrus', ',', 'goes', 'well', ',', 'kitten', 'born', '60', 'days', 'later', '.', 'new', 'kitten', 'weaned', 'eight', 'weeks', '.', 'twin', ',', 'inc.', 'delivers', 'kitten', 'receives', 'remaining', '$', '25,000.', '“', 'growing', 'company', ',', '”', 'said', 'lee', '.', '“', 'facility', 'handle', 'dozen', 'births', 'year', ',', 'goal', 'produce', '50', 'kittens', '50', 'puppies', 'year.', '”', 'company', 'currently', 'experimenting', 'stray', 'dogs', '.', 'canine', 'clones', 'seem', 'perfect', ',', 'bizarre', '.', 'nevertheless', ',', 'lee', 'believes', 'successfully', 'cloning', 'dogs', 'year', '.'], ['sara', 'smith', ',', 'pasadena', 'resident', ',', 'went', 'shopping', '.', '30', ',', 'lived', '3037', 'n.', 'foothill', 'street', 'since', '1992.', 'sara', 'married', 'john', 'seven', 'years', '.', 'two', 'children', ';', 'bob', 'five', 'years', 'old', 'nancy', 'three', '.', 'sara', 'owns', '1995', 'four-door', 'blue', 'toyola', '.', '9', 'a.m.', ',', 'sara', 'got', 'car', 'drove', 'barget', ',', 'department', 'store', 'mile', 'away.barget', 'holiday', 'sale', '.', 'sara', 'bought', 'four-slice', 'toaster', '$', '29.95', 'plus', 'tax', '.', 'regular', 'price', '$', '39.95', '.', 'paid', 'check', '.', 'way', 'home', ',', 'sara', 'stopped', 'milkplus', 'buy', 'gallon', 'nonfat', 'milk', '.', 'milk', '$', '3.50', '.', 'sara', 'got', '50', 'cents', 'back', 'change.sara', 'arrived', 'home', '10', 'a.m.', 'john', 'kids', 'still', 'sleeping', '.', 'woke', 'made', 'hot', 'nutritious', 'breakfast', 'everyone', '.'], ['residents', 'southern', 'california', 'trying', 'get', 'used', 'skyrocketing', 'prices', 'gasoline', '.', 'average', 'price', '87', 'octane', 'economy', 'gas', '$', '2.22', ',', 'almost', '30', 'percent', 'higher', 'today', '12', 'months', 'ago', '.', 'lowest', 'gas', 'price', 'southland', 'right', '$', '2.09', 'gallon', 'seashell', 'station', 'arcadia', '.', 'station', 'manager', ',', 'everett', ',', 'said', 'reason', 'gas', 'cheaper', 'elsewhere', 'bought', 'lot', 'gas', 'two', 'years', 'ago', 'reduced', 'prices', ',', 'passing', 'savings', 'customers.the', 'lines', 'seashell', 'station', 'often', 'run', '10', '20', 'vehicles', 'long', '.', 'police', 'several', 'times', 'cars', 'block', 'traffic', 'horsetrail', 'drive', '.', 'everett', 'said', ',', '“', 'tell', 'people', 'line', 'barco', 'station', 'block', 'away', '$', '2.14', ',', '’', 'rather', 'wait', 'save', '5', 'cents', '.', '’', 'ok', ',', 'course', '.', '’', 'mind', 'making', 'money.', '”', 'young', 'man', 'pumping', 'gas', 'said', 'waited', 'line', '20', 'minutes', '.', 'asked', '’', 'go', 'block', 'away', 'lines', ',', 'said', ',', '“', 'every', 'penny', 'counts', '.', 'bought', '’', '99', 'bummer', ',', 'gas', '$', '1', 'gallon', ',', 'pretty', 'cheap', '.', ',', 'even', 'though', 'get', 'eight', 'miles', 'per', 'gallon', ',', '’', 'paying', 'much', 'fill', 'tank', '.', 'today', '’', 'prices', 'killing', '.', 'drive', 'work', ',', 'drive', 'grocery', 'store', '.', '’', '.', 'used', 'drive', 'around', 'neighborhood', 'show', 'wheels', ',', '’', '.', '”'], ['oceanside', 'community', 'lozano', 'beach', 'debating', 'whether', 'allow', 'homeowners', 'rent', 'homes', 'weekly', 'basis', 'summer', '.', 'rentals', 'produce', 'high', 'incomes', 'owners', 'city', ',', 'gets', 'part', 'income', '15-percent', 'surcharge', 'owner', '.', '“', 'boon', 'coffers', ',', '”', 'said', 'rick', 'brown', ',', 'city', 'manager', '.', '“', 'summer', ',', 'homeowners', 'bring', '$', '2,000', 'week', 'more.', '”', 'however', ',', 'rentals', 'also', 'worms', '.', 'city', 'stopped', 'allowing', 'weekly', 'rentals', '10', 'years', 'ago', 'problems', 'generating', '.', 'two', ',', 'three', ',', 'even', 'four', 'families', 'would', 'pile', 'two-', 'three-bedroom', 'house', '.', 'would', 'park', 'cars', 'lawn', 'produce', 'huge', 'amounts', 'trash', '.', 'sometimes', 'would', 'toss', 'trash', 'streets', 'sidewalks.noise', 'would', 'another', 'problem', '.', 'people', 'would', 'party', 'late', 'loud', 'every', 'night', '.', 'abuse', 'created', 'lot', 'friction', 'neighbors', 'resulted', 'extra', 'work', 'city', 'maintenance', 'crews', 'police', ',', 'respond', 'almost', 'hourly', 'residents', '’', 'complaints', 'noise', ',', 'music', ',', 'trash', ',', 'parking', 'problems', '.', ',', 'city', '’', 'budget', 'problems', 'making', 'reconsider', 'ban.city', 'officials', 'hold', 'community', 'meeting', 'next', 'week', 'listen', 'pros', 'cons', '.', 'one', 'official', 'already', 'suggested', 'proposal', '.', 'thinks', 'fine', 'might', 'work', '.', 'city', 'respond', 'complaints', ',', 'homeowner', 'charged', '$', '200', 'per', 'response', '.', 'fine', 'might', 'cause', 'homeowner', 'careful', 'rent', 'people', 'sure', 'considerate', 'neighbors', '.', 'city', 'would', 'still', 'get', '15', 'percent', 'rental', 'fee', ',', 'even', 'homeowner', '’', 'rent', 'totally', 'offset', 'fines', '.', 'city', 'would', 'post', 'inconsiderate', 'renters', '’', 'names', 'city', 'website', 'homeowners', 'would', 'know', 'them.some', 'officials', 'think', 'ban', 'continued', 'visitors', 'community', 'already', 'proven', 'consideration', 'others', '.', 'money', '’', 'worth', 'headaches', 'cause', '.']]\n"
     ]
    }
   ],
   "source": [
    "print('**** ir_system documents:\\n', inverted_index.documents)"
   ]
  },
  {
   "cell_type": "code",
   "execution_count": 15,
   "outputs": [
    {
     "data": {
      "text/plain": "[!,\n $,\n (,\n ),\n ,,\n .,\n .38,\n 1,\n 1,000,\n 10,\n 1000,\n 1000x,\n 100x,\n 10x,\n 11,\n 110,000,\n 12,\n 120,\n 120,000,\n 15,\n 15-percent,\n 150,\n 1992.,\n 1993,\n 1995,\n 1x,\n 2,000,\n 2.09,\n 2.14,\n 2.22,\n 20,\n 20,000,\n 200,\n 230,000,\n 24-year-old,\n 25,\n 25,000,\n 25,000.,\n 280,\n 29.95,\n 3,\n 3.50,\n 30,\n 300,\n 3037,\n 39.95,\n 4,000,\n 4,000.residents,\n 5,\n 50,\n 50,000,\n 500,\n 500x,\n 50th,\n 50x,\n 510,000,\n 6,000,\n 60,\n 65-year-old,\n 7,\n 70,000,\n 70-year-old,\n 74-year-old,\n 75,\n 75,000,\n 76,\n 79-year-old,\n 87,\n 9,\n 9,000,\n 90,\n 99,\n 9:00,\n :,\n ;,\n ?,\n a.m.,\n able,\n abuse,\n accidentally,\n according,\n acres,\n actually,\n administration,\n afghan,\n agency,\n ago,\n aid,\n alan,\n allen,\n allotments,\n allow,\n allowing,\n almost,\n alone,\n along,\n already,\n also,\n altadena,\n although,\n always,\n ambulance,\n american,\n ammunition,\n among,\n amount,\n amounts,\n amputated,\n angelenos,\n angeles,\n anniversary,\n annual,\n another,\n antennas,\n anyone,\n anything,\n apartment,\n apartments,\n apparent,\n appears,\n appliances,\n apply,\n approved,\n april,\n arcadia,\n area,\n arizona,\n around,\n arrived,\n asked,\n asking,\n assisted,\n attendance,\n attitudes,\n attract,\n audience,\n authors,\n auto,\n autograph,\n available.this,\n avenue,\n average,\n avoid,\n avoided,\n away,\n away.barget,\n baby,\n back,\n backbreaking,\n bad,\n bag,\n bags,\n baldwin,\n balls,\n ban,\n ban.city,\n band,\n bang,\n barco,\n barget,\n barney,\n bartering,\n basic,\n basis,\n batteries,\n bay,\n beach,\n become,\n behind,\n believes,\n beloved,\n berserk,\n best,\n better,\n bicycles,\n big,\n bigger,\n bikers,\n bill,\n binoculars.,\n biopsy,\n birder,\n birding,\n births,\n bizarre,\n black,\n blanket,\n blind,\n block,\n blocks,\n blue,\n bob,\n book,\n books,\n bookstore,\n boon,\n boots,\n born,\n bottle,\n bottles,\n bought,\n bowling,\n boxes,\n boy,\n braked,\n brakes,\n brand,\n breakfast,\n bring,\n brown,\n brush,\n bubble,\n budget,\n bulbs,\n bullet,\n bummer,\n burger,\n burn,\n burned,\n burst,\n bus,\n bus.jerry,\n buy,\n caliber,\n california,\n california.,\n called,\n came,\n candy,\n cane,\n canine,\n cans,\n canton,\n captured,\n car,\n car.sam,\n careful,\n carpenter,\n carriages,\n cars,\n carson,\n carts,\n cat,\n cataract,\n cause,\n caused,\n causing,\n cell,\n cells,\n cents,\n certificates–one,\n change,\n change.sara,\n changed,\n changing,\n channels,\n charged,\n chase,\n chase.they,\n cheap,\n cheaper,\n check,\n chef,\n childless,\n children,\n choose,\n church,\n cigarettes,\n cigars,\n cities,\n city,\n clean,\n cleared,\n clearing,\n clicked,\n clients,\n clockwork,\n clone,\n clones,\n cloning,\n close,\n clothing,\n club,\n clubs.much,\n coffee,\n coffers,\n coin,\n collection,\n collision,\n color,\n colors,\n come,\n comic,\n community,\n company,\n complain,\n complaints,\n completely,\n complex,\n complications,\n complied,\n concerned,\n condo,\n condominium,\n cone,\n cons,\n considerate,\n consideration,\n consisting,\n contestant,\n continued,\n conversations,\n convertible,\n correct,\n correctional,\n correctly,\n cost,\n could,\n counts,\n county,\n couple,\n course,\n court,\n crazy,\n cream,\n created,\n creek,\n crew,\n crews,\n crossing,\n crosswalk,\n cub,\n cube,\n cultured,\n cup,\n currently,\n customers,\n customers.the,\n cut,\n cutting,\n cycles,\n daily,\n damage,\n day,\n days,\n deal,\n deals,\n death,\n debating,\n debris,\n decide,\n decided,\n decision,\n decision.finally,\n delightful,\n delivered,\n delivers,\n demanding,\n demands,\n department,\n departments,\n desperate,\n destroyed,\n details,\n diabetes,\n diabetic,\n dictionaries,\n died,\n dies,\n different,\n dining,\n directions,\n director,\n dirt,\n discovered,\n disease,\n dogs,\n dollars,\n dolls,\n dom,\n dominic,\n donate,\n done,\n donna,\n donor.,\n door,\n door-slammer,\n doors,\n downtown,\n dozen,\n dreamily,\n drinks,\n drinks.people,\n drive,\n drive-through,\n driver,\n drivers,\n driving,\n drizzle,\n dropped,\n drought,\n drove,\n early,\n earring,\n economy,\n eight,\n either,\n elevation,\n elsewhere,\n embrace,\n emphysema,\n employee,\n empty,\n ended,\n ending,\n english,\n enough,\n environmental,\n erupted,\n estimated,\n estrus,\n ethnic,\n even,\n evening,\n event,\n ever,\n everett,\n every,\n everyone,\n exact,\n except,\n exchange,\n excitedly,\n exhibitors,\n experimenting,\n explain,\n extra,\n extra-large,\n eye,\n eyesight,\n facility,\n fact,\n failure,\n families,\n fantastic,\n fault,\n featured,\n federal,\n fee,\n feel,\n feet,\n felix,\n female,\n festival,\n festivals,\n fiction,\n fight,\n fill,\n filled.no,\n finally,\n find,\n fine,\n fines,\n fire,\n first,\n five,\n five-year-old,\n fixing,\n flipped,\n following,\n food,\n foods,\n foot,\n foothill,\n forward,\n found,\n founders,\n four,\n four-door,\n four-slice,\n francisco,\n free,\n freeway,\n fresh,\n friction,\n friendly,\n friends,\n front,\n fruit,\n full,\n funds,\n furniture,\n future,\n gallon,\n game,\n gangster,\n gangsters,\n garbage,\n gas,\n gasoline,\n gave,\n gear,\n generating,\n get,\n gets,\n getting,\n geyser,\n gift,\n give,\n given,\n gloves,\n go,\n goal,\n goes,\n going,\n golf,\n gone.,\n good,\n got,\n government,\n grabbed,\n grand,\n great,\n greater,\n grocery,\n groups—save,\n groups—the,\n grow,\n growing,\n guarantee,\n guards,\n guess,\n guessed,\n guessing,\n guides,\n gun,\n gunshots,\n guy,\n guy.jerry,\n half,\n halloween,\n halt.turning,\n hamburgers,\n hamilton,\n handed,\n handle,\n happen,\n happened,\n happy,\n hauled,\n hawaiian,\n hazard,\n head,\n headaches,\n heads,\n heard,\n held,\n help,\n herman,\n high,\n higher,\n hill,\n hire,\n hit,\n hold,\n holiday,\n home,\n homebuyers,\n homeowner,\n homeowners,\n homes,\n hope,\n hopes,\n horsetrail,\n hospital,\n hot,\n hotel,\n hour,\n hourly,\n hours,\n house,\n housing,\n howard,\n however,\n huge,\n hurriedly,\n husband,\n hydrant,\n ice,\n idea,\n ideas,\n immediately,\n implanted,\n inc.,\n income,\n incomes,\n inconsiderate,\n inevitably,\n inferno,\n influence,\n injured,\n inmates,\n insurance,\n interest,\n invite,\n irritating,\n issued,\n item,\n items,\n jail,\n japanese–he,\n jerry,\n job,\n job-related,\n john,\n johnson,\n joke,\n joy,\n jumped,\n kick,\n kids,\n killing,\n kinds,\n kitten,\n kittens,\n knee.jerry,\n knew,\n know,\n lake,\n landfill,\n landlord,\n lane,\n lap,\n last,\n late,\n later,\n latest,\n lawn,\n leading,\n least,\n lee,\n left,\n leftovers,\n legal,\n less,\n let,\n letting,\n libraries,\n life,\n light,\n like,\n liked,\n limp,\n line,\n lined,\n lines,\n lips,\n liquid,\n listen,\n listening,\n little,\n lived,\n lives,\n living,\n loan,\n loans,\n local,\n long,\n look,\n looking,\n looking.,\n los,\n lose,\n lot,\n lottery,\n loud,\n love,\n loved,\n lowest,\n lozano,\n lucky,\n luxury,\n made,\n magazine,\n magazines,\n main,\n maintenance,\n major,\n make,\n making,\n man,\n managed,\n manager,\n many,\n market,\n married,\n massive,\n material,\n mcrap.the,\n mechanic,\n medical,\n meeting,\n messages,\n middle-aged,\n might,\n mild,\n mile,\n miles,\n milk,\n milkplus,\n million,\n millions,\n mind,\n minimum,\n minor,\n minutes,\n money,\n money.,\n money.sam,\n monica,\n month,\n months,\n more.,\n morning,\n mountain,\n move,\n moved,\n movie,\n movies,\n mr.,\n mrs,\n mrs.,\n much,\n murder-suicide,\n music,\n must,\n n.,\n name,\n names,\n nancy,\n nationwide,\n near,\n nearby,\n necessary,\n necessary.,\n negotiations,\n neighbor,\n neighborhood,\n neighbors,\n never,\n nevertheless,\n new,\n newest,\n newspaper,\n newsstand,\n next,\n next-door,\n nice,\n nicest,\n night,\n night—,\n nine,\n nitrogen,\n nobody,\n noise,\n nonfat,\n nonflammable,\n north,\n northville,\n notify,\n number,\n numbers,\n nutritious,\n occurred,\n occurs,\n oceanside,\n octane,\n offer,\n offers,\n officer,\n officers,\n official,\n officials,\n offset,\n often,\n oil,\n ok,\n old,\n one,\n one-bedroom,\n one-hour,\n ones,\n onto,\n operation.ninety,\n opportunity.,\n order,\n ordering,\n others,\n ought,\n outdoor,\n outdoors,\n outside,\n overpaid,\n overpaying,\n owner,\n owners,\n owns,\n p.m.,\n paid,\n pain.,\n paper,\n paper.the,\n park,\n parked,\n parking,\n part,\n party,\n pasadena,\n passing,\n pay,\n paying,\n penny,\n people,\n per,\n percent,\n perfect,\n period,\n permitted,\n personal,\n persons,\n phoenix,\n phone,\n pianist,\n piano,\n picked,\n pile,\n pine,\n pistol,\n pizza,\n place,\n planners,\n plants,\n plastic,\n plates,\n play,\n played,\n player,\n playground.,\n playing,\n plot,\n plowed,\n plus,\n police,\n popular,\n portable,\n post,\n practice,\n practiced,\n president,\n pretty,\n price,\n prices,\n prince,\n prison,\n prisoners,\n private,\n probably,\n problem,\n problems,\n proceeds,\n produce,\n profit,\n property,\n proposal,\n proprietor,\n pros,\n proven,\n provide,\n pulp,\n pumping,\n puppies,\n pursuing,\n put,\n quell,\n question,\n question-and-answer,\n quieter,\n quieter.,\n quite,\n radios,\n raffle,\n raging,\n rain,\n raining,\n rainstorm,\n raises,\n ran,\n range,\n rates,\n rather,\n ration,\n rattle,\n razors,\n reading,\n reads,\n ready,\n realtor,\n reason,\n receives,\n recent,\n reconsider,\n reduce,\n reduced,\n reduction,\n refill,\n refused,\n regular,\n released,\n remaining,\n remarked,\n remove,\n removed,\n rent,\n rental,\n rentals,\n renters,\n renting,\n rents,\n repairs,\n resident,\n residents,\n respond,\n response,\n rest,\n restaurant,\n restored,\n resulted,\n resumed,\n retired,\n retirees,\n return,\n revolver,\n rick,\n right,\n road,\n roadside,\n roof,\n room,\n ruined,\n run,\n sad,\n safely,\n said,\n sale,\n sam,\n samantha,\n san,\n sandwich,\n sandwiches,\n santa,\n sara,\n saturday,\n save,\n saved,\n savings,\n saw,\n saxophone,\n saxophonist,\n say,\n saying,\n says,\n scalding.he,\n scared,\n scheduled,\n scouts,\n seashell,\n seatbelt,\n second,\n secured,\n security,\n seekers,\n seem,\n seemed,\n selected,\n sell,\n seller,\n sent,\n set,\n seven,\n several,\n shaking,\n shapes,\n shave,\n sherman,\n shiny,\n shopping,\n shorter,\n show,\n sicker,\n sickness,\n ...]"
     },
     "execution_count": 15,
     "metadata": {},
     "output_type": "execute_result"
    }
   ],
   "source": [
    "# Create posting lists\n",
    "inverted_index.create_posting_list()\n",
    "\n",
    "# Let's see the posting list\n",
    "inverted_index.posting_list"
   ],
   "metadata": {
    "collapsed": false,
    "ExecuteTime": {
     "start_time": "2024-06-19T01:42:12.951167Z",
     "end_time": "2024-06-19T01:42:13.011518Z"
    }
   }
  },
  {
   "cell_type": "code",
   "execution_count": 16,
   "metadata": {
    "ExecuteTime": {
     "start_time": "2024-06-19T01:42:12.984599Z",
     "end_time": "2024-06-19T01:42:13.052347Z"
    },
    "collapsed": false,
    "jupyter": {
     "outputs_hidden": false
    }
   },
   "outputs": [
    {
     "name": "stdout",
     "output_type": "stream",
     "text": [
      "**** ir_system posting list:\n",
      " [!, $, (, ), ,, ., .38, 1, 1,000, 10, 1000, 1000x, 100x, 10x, 11, 110,000, 12, 120, 120,000, 15, 15-percent, 150, 1992., 1993, 1995, 1x, 2,000, 2.09, 2.14, 2.22, 20, 20,000, 200, 230,000, 24-year-old, 25, 25,000, 25,000., 280, 29.95, 3, 3.50, 30, 300, 3037, 39.95, 4,000, 4,000.residents, 5, 50, 50,000, 500, 500x, 50th, 50x, 510,000, 6,000, 60, 65-year-old, 7, 70,000, 70-year-old, 74-year-old, 75, 75,000, 76, 79-year-old, 87, 9, 9,000, 90, 99, 9:00, :, ;, ?, a.m., able, abuse, accidentally, according, acres, actually, administration, afghan, agency, ago, aid, alan, allen, allotments, allow, allowing, almost, alone, along, already, also, altadena, although, always, ambulance, american, ammunition, among, amount, amounts, amputated, angelenos, angeles, anniversary, annual, another, antennas, anyone, anything, apartment, apartments, apparent, appears, appliances, apply, approved, april, arcadia, area, arizona, around, arrived, asked, asking, assisted, attendance, attitudes, attract, audience, authors, auto, autograph, available.this, avenue, average, avoid, avoided, away, away.barget, baby, back, backbreaking, bad, bag, bags, baldwin, balls, ban, ban.city, band, bang, barco, barget, barney, bartering, basic, basis, batteries, bay, beach, become, behind, believes, beloved, berserk, best, better, bicycles, big, bigger, bikers, bill, binoculars., biopsy, birder, birding, births, bizarre, black, blanket, blind, block, blocks, blue, bob, book, books, bookstore, boon, boots, born, bottle, bottles, bought, bowling, boxes, boy, braked, brakes, brand, breakfast, bring, brown, brush, bubble, budget, bulbs, bullet, bummer, burger, burn, burned, burst, bus, bus.jerry, buy, caliber, california, california., called, came, candy, cane, canine, cans, canton, captured, car, car.sam, careful, carpenter, carriages, cars, carson, carts, cat, cataract, cause, caused, causing, cell, cells, cents, certificates–one, change, change.sara, changed, changing, channels, charged, chase, chase.they, cheap, cheaper, check, chef, childless, children, choose, church, cigarettes, cigars, cities, city, clean, cleared, clearing, clicked, clients, clockwork, clone, clones, cloning, close, clothing, club, clubs.much, coffee, coffers, coin, collection, collision, color, colors, come, comic, community, company, complain, complaints, completely, complex, complications, complied, concerned, condo, condominium, cone, cons, considerate, consideration, consisting, contestant, continued, conversations, convertible, correct, correctional, correctly, cost, could, counts, county, couple, course, court, crazy, cream, created, creek, crew, crews, crossing, crosswalk, cub, cube, cultured, cup, currently, customers, customers.the, cut, cutting, cycles, daily, damage, day, days, deal, deals, death, debating, debris, decide, decided, decision, decision.finally, delightful, delivered, delivers, demanding, demands, department, departments, desperate, destroyed, details, diabetes, diabetic, dictionaries, died, dies, different, dining, directions, director, dirt, discovered, disease, dogs, dollars, dolls, dom, dominic, donate, done, donna, donor., door, door-slammer, doors, downtown, dozen, dreamily, drinks, drinks.people, drive, drive-through, driver, drivers, driving, drizzle, dropped, drought, drove, early, earring, economy, eight, either, elevation, elsewhere, embrace, emphysema, employee, empty, ended, ending, english, enough, environmental, erupted, estimated, estrus, ethnic, even, evening, event, ever, everett, every, everyone, exact, except, exchange, excitedly, exhibitors, experimenting, explain, extra, extra-large, eye, eyesight, facility, fact, failure, families, fantastic, fault, featured, federal, fee, feel, feet, felix, female, festival, festivals, fiction, fight, fill, filled.no, finally, find, fine, fines, fire, first, five, five-year-old, fixing, flipped, following, food, foods, foot, foothill, forward, found, founders, four, four-door, four-slice, francisco, free, freeway, fresh, friction, friendly, friends, front, fruit, full, funds, furniture, future, gallon, game, gangster, gangsters, garbage, gas, gasoline, gave, gear, generating, get, gets, getting, geyser, gift, give, given, gloves, go, goal, goes, going, golf, gone., good, got, government, grabbed, grand, great, greater, grocery, groups—save, groups—the, grow, growing, guarantee, guards, guess, guessed, guessing, guides, gun, gunshots, guy, guy.jerry, half, halloween, halt.turning, hamburgers, hamilton, handed, handle, happen, happened, happy, hauled, hawaiian, hazard, head, headaches, heads, heard, held, help, herman, high, higher, hill, hire, hit, hold, holiday, home, homebuyers, homeowner, homeowners, homes, hope, hopes, horsetrail, hospital, hot, hotel, hour, hourly, hours, house, housing, howard, however, huge, hurriedly, husband, hydrant, ice, idea, ideas, immediately, implanted, inc., income, incomes, inconsiderate, inevitably, inferno, influence, injured, inmates, insurance, interest, invite, irritating, issued, item, items, jail, japanese–he, jerry, job, job-related, john, johnson, joke, joy, jumped, kick, kids, killing, kinds, kitten, kittens, knee.jerry, knew, know, lake, landfill, landlord, lane, lap, last, late, later, latest, lawn, leading, least, lee, left, leftovers, legal, less, let, letting, libraries, life, light, like, liked, limp, line, lined, lines, lips, liquid, listen, listening, little, lived, lives, living, loan, loans, local, long, look, looking, looking., los, lose, lot, lottery, loud, love, loved, lowest, lozano, lucky, luxury, made, magazine, magazines, main, maintenance, major, make, making, man, managed, manager, many, market, married, massive, material, mcrap.the, mechanic, medical, meeting, messages, middle-aged, might, mild, mile, miles, milk, milkplus, million, millions, mind, minimum, minor, minutes, money, money., money.sam, monica, month, months, more., morning, mountain, move, moved, movie, movies, mr., mrs, mrs., much, murder-suicide, music, must, n., name, names, nancy, nationwide, near, nearby, necessary, necessary., negotiations, neighbor, neighborhood, neighbors, never, nevertheless, new, newest, newspaper, newsstand, next, next-door, nice, nicest, night, night—, nine, nitrogen, nobody, noise, nonfat, nonflammable, north, northville, notify, number, numbers, nutritious, occurred, occurs, oceanside, octane, offer, offers, officer, officers, official, officials, offset, often, oil, ok, old, one, one-bedroom, one-hour, ones, onto, operation.ninety, opportunity., order, ordering, others, ought, outdoor, outdoors, outside, overpaid, overpaying, owner, owners, owns, p.m., paid, pain., paper, paper.the, park, parked, parking, part, party, pasadena, passing, pay, paying, penny, people, per, percent, perfect, period, permitted, personal, persons, phoenix, phone, pianist, piano, picked, pile, pine, pistol, pizza, place, planners, plants, plastic, plates, play, played, player, playground., playing, plot, plowed, plus, police, popular, portable, post, practice, practiced, president, pretty, price, prices, prince, prison, prisoners, private, probably, problem, problems, proceeds, produce, profit, property, proposal, proprietor, pros, proven, provide, pulp, pumping, puppies, pursuing, put, quell, question, question-and-answer, quieter, quieter., quite, radios, raffle, raging, rain, raining, rainstorm, raises, ran, range, rates, rather, ration, rattle, razors, reading, reads, ready, realtor, reason, receives, recent, reconsider, reduce, reduced, reduction, refill, refused, regular, released, remaining, remarked, remove, removed, rent, rental, rentals, renters, renting, rents, repairs, resident, residents, respond, response, rest, restaurant, restored, resulted, resumed, retired, retirees, return, revolver, rick, right, road, roadside, roof, room, ruined, run, sad, safely, said, sale, sam, samantha, san, sandwich, sandwiches, santa, sara, saturday, save, saved, savings, saw, saxophone, saxophonist, say, saying, says, scalding.he, scared, scheduled, scouts, seashell, seatbelt, second, secured, security, seekers, seem, seemed, selected, sell, seller, sent, set, seven, several, shaking, shapes, shave, sherman, shiny, shopping, shorter, show, sicker, sickness, side, sidewalks.noise, sign, silverware, since, six, sixth, sixty-year-old, sizes, skyrocketing, slacks, slam, sleeping, slightly, slowly, slumped, smiled, smith, sneaking, soap, social, sofas, sold, something, sometime, sometimes, sought, southern, southland, space, spanish, sparing, specter, spewed, spill, spilled, spinning, sponsored, sports, spring, stain, stand, standing, stars, started, state, station, stationery, stay, steadily, steep, steering, still, stolen, stop, stopped, store, stored, stray, streambed, street, streets, stretch, studio, succeed, successfully, sudden, sue, sued, suffered, suggested, summer, sunday, supposed, surcharge, sure, surround, surrounded, survive, suv, table, take, taken, talk, talked, talking, talks, tank, tax, taxes, teen, teenage, teenager, tell, telling, theater, thelma, them.some, thick, thing, things, think, thinks, though, thought, thousands, three, three-bedroom, three-hour, threw, tim, time, time., times, tired, tires, toaster, today, together, toilet, told, tons, too., took, toppled, toss, totally, tough, toward, tower, town, toyola, trade, traffic, trash, tree, trees, tried, triple-scoop, trucks, try, trying, tune-ups, tuner, turned, tv, twenty, twice, twin, two, two-, two-bedroom, two-mile, underbrush, unemployed, uneventful, unfortunately, unhappy, uninjured, unlucky, unpredictable, upset, us, use, used, value, variable, variables, vehicle.when, vehicles, vendor, venice, veterinarian, vicky, victoria, video, videos, visiting, visitors, vittorio, vittorios, volunteers, wait, waited, waiting, walked, walks, want, warden, wash, washes, watch, watches, watching, water, way, weaned, wearing, website, week, weekend, weekly, weeks, well, went, west, whales, whatever, wheel, wheels, whether, whiskey, white, whole, whose, widow, widowed, wife, win, windows, winnings, woke, woman, work, worked, world, worms, worth, would, wrong, year, year., years, yelling, yellow, yet, yield, young, ’, “, ”]\n"
     ]
    }
   ],
   "source": [
    "print('**** ir_system posting list:\\n', inverted_index.posting_list)"
   ]
  },
  {
   "cell_type": "markdown",
   "metadata": {
    "collapsed": false,
    "jupyter": {
     "outputs_hidden": false
    }
   },
   "source": []
  },
  {
   "cell_type": "code",
   "execution_count": 30,
   "metadata": {
    "ExecuteTime": {
     "start_time": "2024-06-19T01:47:04.175501Z",
     "end_time": "2024-06-19T01:47:04.182470Z"
    },
    "collapsed": false,
    "jupyter": {
     "outputs_hidden": false
    }
   },
   "outputs": [
    {
     "name": "stdout",
     "output_type": "stream",
     "text": [
      "[12, 5]\n",
      "[8, 10, 5]\n",
      "[0, 1, 2, 3, 4, 5, 6, 7, 8, 9, 10, 11, 12, 13, 14]\n",
      "[4]\n"
     ]
    }
   ],
   "source": [
    "ir_system = QueryProcessor(inverted_index)\n",
    "# Now we test our sample\n",
    "print(ir_system.search('buy and car'))\n",
    "print(ir_system.search('fire or water'))\n",
    "print(ir_system.search('not example'))\n",
    "print(ir_system.search('sports near/3 car'))"
   ]
  }
 ],
 "metadata": {
  "kernelspec": {
   "display_name": "Python 3 (ipykernel)",
   "language": "python",
   "name": "python3"
  },
  "language_info": {
   "codemirror_mode": {
    "name": "ipython",
    "version": 3
   },
   "file_extension": ".py",
   "mimetype": "text/x-python",
   "name": "python",
   "nbconvert_exporter": "python",
   "pygments_lexer": "ipython3",
   "version": "3.10.12"
  }
 },
 "nbformat": 4,
 "nbformat_minor": 4
}
